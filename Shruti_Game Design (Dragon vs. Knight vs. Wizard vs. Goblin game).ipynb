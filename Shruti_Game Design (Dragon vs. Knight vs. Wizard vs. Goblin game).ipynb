{
 "cells": [
  {
   "cell_type": "code",
   "execution_count": 16,
   "id": "4f3628ff",
   "metadata": {},
   "outputs": [
    {
     "name": "stdout",
     "output_type": "stream",
     "text": [
      "Welcome to the Dragon vs. Knight vs. Wizard vs. Goblin game!\n",
      "You are Dragon.\n",
      "Your opponent is Goblin.\n",
      "Dragon burns Goblin.\n"
     ]
    }
   ],
   "source": [
    "import random\n",
    "\n",
    "class Character:\n",
    "    def __init__(self, name, action):\n",
    "        self.name = name\n",
    "        self.action = action\n",
    "\n",
    "    def interact(self, other):\n",
    "        print(f\"{self.name} {self.action} {other.name}.\")\n",
    "\n",
    "# Defining character interactions\n",
    "character_rules = {\n",
    "    'Dragon': 'burns',\n",
    "    'Knight': 'defeats',\n",
    "    'Wizard': 'disarms',\n",
    "    'Goblin': 'steals from'\n",
    "}\n",
    "\n",
    "# Creating instances of characters\n",
    "characters = {\n",
    "    'Dragon': Character('Dragon', character_rules['Dragon']),\n",
    "    'Knight': Character('Knight', character_rules['Knight']),\n",
    "    'Wizard': Character('Wizard', character_rules['Wizard']),\n",
    "    'Goblin': Character('Goblin', character_rules['Goblin'])\n",
    "}\n",
    "\n",
    "def main():\n",
    "    print(\"Welcome to the Dragon vs. Knight vs. Wizard vs. Goblin game!\")\n",
    "\n",
    "    # Choosing a random player character\n",
    "    player_name = random.choice(list(characters.keys()))\n",
    "    player_character = characters[player_name]\n",
    "\n",
    "    print(f\"You are {player_name}.\")\n",
    "\n",
    "    # Choosing a random opponent\n",
    "    opponent_name = random.choice(list(characters.keys()))\n",
    "    opponent_character = characters[opponent_name]\n",
    "\n",
    "    print(f\"Your opponent is {opponent_name}.\")\n",
    "\n",
    "    # Performing the interaction\n",
    "    player_character.interact(opponent_character)\n",
    "\n",
    "if __name__ == \"__main__\":\n",
    "    main()"
   ]
  }
 ],
 "metadata": {
  "kernelspec": {
   "display_name": "Python 3 (ipykernel)",
   "language": "python",
   "name": "python3"
  },
  "language_info": {
   "codemirror_mode": {
    "name": "ipython",
    "version": 3
   },
   "file_extension": ".py",
   "mimetype": "text/x-python",
   "name": "python",
   "nbconvert_exporter": "python",
   "pygments_lexer": "ipython3",
   "version": "3.11.5"
  }
 },
 "nbformat": 4,
 "nbformat_minor": 5
}
